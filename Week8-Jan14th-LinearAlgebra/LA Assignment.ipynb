{
  "nbformat": 4,
  "nbformat_minor": 0,
  "metadata": {
    "colab": {
      "provenance": [],
      "authorship_tag": "ABX9TyPREOY/ic0wMCrl2ggtiL1m",
      "include_colab_link": true
    },
    "kernelspec": {
      "name": "python3",
      "display_name": "Python 3"
    },
    "language_info": {
      "name": "python"
    }
  },
  "cells": [
    {
      "cell_type": "markdown",
      "metadata": {
        "id": "view-in-github",
        "colab_type": "text"
      },
      "source": [
        "<a href=\"https://colab.research.google.com/github/nethajisubash/AI-ML-Projects/blob/main/Week8-Jan14th-LinearAlgebra/LA%20Assignment.ipynb\" target=\"_parent\"><img src=\"https://colab.research.google.com/assets/colab-badge.svg\" alt=\"Open In Colab\"/></a>"
      ]
    },
    {
      "cell_type": "markdown",
      "source": [
        "# Assignment"
      ],
      "metadata": {
        "id": "hFauz-tPzZMn"
      }
    },
    {
      "cell_type": "markdown",
      "source": [
        " Q1) Write a Python function that takes a square matrix A as input and returns its eigenvalues and eigenvectors.\n",
        "\n",
        "\n",
        "\n",
        "Q2) Write a program which takes 2 arrays and returns the dot product without using NumPy\n",
        "\n",
        "\n",
        "\n",
        "Q3) Write a Python function to calculate the determinant of a n by n matrix without using Python package\n",
        "\n",
        "\n",
        "\n",
        "Q4) Write a Python function to calculate the rank of a matrix without using Python package"
      ],
      "metadata": {
        "id": "oSBine4-zgVf"
      }
    },
    {
      "cell_type": "code",
      "source": [
        "# Q1) Write a Python function that takes a square matrix A as input and returns its eigenvalues and eigenvectors.\n"
      ],
      "metadata": {
        "id": "N-LKgjwGzsEm"
      },
      "execution_count": 1,
      "outputs": []
    },
    {
      "cell_type": "code",
      "source": [],
      "metadata": {
        "id": "60wuuE19zz5p"
      },
      "execution_count": null,
      "outputs": []
    }
  ]
}