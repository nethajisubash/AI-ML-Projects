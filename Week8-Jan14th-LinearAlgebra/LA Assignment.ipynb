{
  "nbformat": 4,
  "nbformat_minor": 0,
  "metadata": {
    "colab": {
      "provenance": [],
      "authorship_tag": "ABX9TyNnyTMkXViXhGNHWRQT3zb3",
      "include_colab_link": true
    },
    "kernelspec": {
      "name": "python3",
      "display_name": "Python 3"
    },
    "language_info": {
      "name": "python"
    }
  },
  "cells": [
    {
      "cell_type": "markdown",
      "metadata": {
        "id": "view-in-github",
        "colab_type": "text"
      },
      "source": [
        "<a href=\"https://colab.research.google.com/github/nethajisubash/AI-ML-Projects/blob/main/Week8-Jan14th-LinearAlgebra/LA%20Assignment.ipynb\" target=\"_parent\"><img src=\"https://colab.research.google.com/assets/colab-badge.svg\" alt=\"Open In Colab\"/></a>"
      ]
    },
    {
      "cell_type": "markdown",
      "source": [
        "# Assignment"
      ],
      "metadata": {
        "id": "hFauz-tPzZMn"
      }
    },
    {
      "cell_type": "markdown",
      "source": [
        " Q1) Write a Python function that takes a square matrix A as input and returns its eigenvalues and eigenvectors.\n",
        "\n",
        "\n",
        "\n",
        "Q2) Write a program which takes 2 arrays and returns the dot product without using NumPy\n",
        "\n",
        "\n",
        "\n",
        "Q3) Write a Python function to calculate the determinant of a n by n matrix without using Python package\n",
        "\n",
        "\n",
        "\n",
        "Q4) Write a Python function to calculate the rank of a matrix without using Python package"
      ],
      "metadata": {
        "id": "oSBine4-zgVf"
      }
    },
    {
      "cell_type": "code",
      "source": [
        "\n"
      ],
      "metadata": {
        "id": "N-LKgjwGzsEm"
      },
      "execution_count": null,
      "outputs": []
    },
    {
      "cell_type": "code",
      "source": [
        "# Q1) Write a Python function that takes a square matrix A as input and returns its eigenvalues and eigenvectors.\n",
        "#-----------------------------------------------------------------------------------------------------------------\n",
        "import numpy as np\n",
        "\n",
        "#function to print the eigen value and vector for any given square matrix\n",
        "def print_eigen (square_matrix) :\n",
        "  #print input square matrix\n",
        "  print(square_matrix)\n",
        "\n",
        "  #invoking numpy linear algebra eigen function to get the eigen value and eigen vector\n",
        "  eigen_value, eigen_vector = np.linalg.eig(square_matrix)\n",
        "\n",
        "  #print eigen vector and value\n",
        "  print(\"Eigen Value =\", eigen_value)\n",
        "  print(\"Eigen Vector =\", eigen_vector)\n",
        "\n",
        "# to validate know results of 3 and 2 are being outputed\n",
        "print_eigen(([3,1],[0,2]))\n",
        "\n",
        "print()\n",
        "# pass random 2 x 2 matix and get the results\n",
        "random_martix= np.random.rand(2,2)\n",
        "print_eigen(random_martix)\n",
        "\n",
        "print()\n",
        "print_eigen(100*(random_martix))\n"
      ],
      "metadata": {
        "id": "60wuuE19zz5p",
        "colab": {
          "base_uri": "https://localhost:8080/"
        },
        "outputId": "e5f29024-fe7e-4fbe-b3d2-b7c6c03d0fec"
      },
      "execution_count": null,
      "outputs": [
        {
          "output_type": "stream",
          "name": "stdout",
          "text": [
            "([3, 1], [0, 2])\n",
            "Eigen Value = [3. 2.]\n",
            "Eigen Vector = [[ 1.         -0.70710678]\n",
            " [ 0.          0.70710678]]\n",
            "\n",
            "[[0.25610043 0.64328028]\n",
            " [0.33893927 0.94485899]]\n",
            "Eigen Value = [0.02028143 1.18067798]\n",
            "Eigen Vector = [[-0.93890011 -0.57112186]\n",
            " [ 0.34418975 -0.82086529]]\n",
            "\n",
            "[[25.6100432  64.32802818]\n",
            " [33.8939273  94.48589852]]\n",
            "Eigen Value = [  2.02814346 118.06779826]\n",
            "Eigen Vector = [[-0.93890011 -0.57112186]\n",
            " [ 0.34418975 -0.82086529]]\n"
          ]
        }
      ]
    },
    {
      "cell_type": "code",
      "source": [
        "# Q2) Write a program which takes 2 arrays and returns the dot product without using NumPy\n",
        "#------------------------------------------------------------------------------------------\n",
        "\n",
        "#function to calcualte dot product\n",
        "def dot_product(array_one, array_two) :\n",
        "  # main prerequiste for dot product is the arrays should be same length. So returning none if array are not equal\n",
        "  if len(array_one) != len(array_one) :\n",
        "    print(\"Warning - Array not of equal length\")\n",
        "    return None\n",
        "  # initialize dot product value.\n",
        "  dot_product_value=0\n",
        "\n",
        "  for i in range(len(array_one)) :\n",
        "    # summation of the multiplied values of the element is the array value.\n",
        "    dot_product_value = dot_product_value + (array_one[i] * array_two[i])\n",
        "  return dot_product_value\n",
        "\n",
        "# validate dot product value\n",
        "dot_product([1,2,3,4],[5,6,7,8])\n",
        "\n"
      ],
      "metadata": {
        "colab": {
          "base_uri": "https://localhost:8080/"
        },
        "id": "KNQiUzQb9887",
        "outputId": "a9166c14-a0bd-4e6f-c055-55e3efb160ba"
      },
      "execution_count": null,
      "outputs": [
        {
          "output_type": "execute_result",
          "data": {
            "text/plain": [
              "70"
            ]
          },
          "metadata": {},
          "execution_count": 16
        }
      ]
    },
    {
      "cell_type": "code",
      "source": [
        "# Q3) Write a Python function to calculate the determinant of a n by n matrix without using Python package\n",
        "#---------------------------------------------------------------------------------------------------------\n",
        "\n",
        "import numpy as np\n",
        "\n",
        "def determinant (A) :\n",
        "  i , j = A.shape\n",
        "  detA=0\n",
        "  for loopj in range(1,j+1,1) :\n",
        "    print(loopj)\n",
        "    newA=[2+][-loopj]\n",
        "    detA = detA + ((-1 ** (1+loopj)) * A[1][loopj] * determinant(newA)\n",
        "  return detA\n",
        "\n",
        "\n",
        "matrix=np.array([[1,2,3], [4,5,6], [7,8,9]])\n",
        "determinant(matrix)\n"
      ],
      "metadata": {
        "colab": {
          "base_uri": "https://localhost:8080/",
          "height": 158
        },
        "id": "AGBbM7QQG31X",
        "outputId": "3c9135ee-dc9a-4f99-fb06-fca818a070e1"
      },
      "execution_count": 1,
      "outputs": [
        {
          "output_type": "error",
          "ename": "SyntaxError",
          "evalue": "invalid syntax (<ipython-input-1-ade44341ee6f>, line 11)",
          "traceback": [
            "\u001b[0;36m  File \u001b[0;32m\"<ipython-input-1-ade44341ee6f>\"\u001b[0;36m, line \u001b[0;32m11\u001b[0m\n\u001b[0;31m    newA=[2+][-loopj]\u001b[0m\n\u001b[0m            ^\u001b[0m\n\u001b[0;31mSyntaxError\u001b[0m\u001b[0;31m:\u001b[0m invalid syntax\n"
          ]
        }
      ]
    },
    {
      "cell_type": "code",
      "source": [
        "def submatrix(matrix, row, col):\n",
        "    # Helper function to get the submatrix obtained by removing a specified row and column\n",
        "    return [[matrix[i][j] for j in range(len(matrix[i])) if j != col] for i in range(len(matrix)) if i != row]\n",
        "\n",
        "def determinant(matrix):\n",
        "    # Base case: If the matrix is 1x1, return its only element\n",
        "    if len(matrix) == 1 and len(matrix[0]) == 1:\n",
        "        return matrix[0][0]\n",
        "\n",
        "    det = 0\n",
        "    for col in range(len(matrix[0])):\n",
        "        # Calculate the determinant using recursive expansion and cofactor multiplication\n",
        "        det += ((-1) ** col) * matrix[0][col] * determinant(submatrix(matrix, 0, col))\n",
        "\n",
        "    return det\n",
        "\n",
        "# Example usage:\n",
        "# Replace the example_matrix with your own matrix\n",
        "example_matrix = [[1, 2, 3],\n",
        "                  [4, 5, 6],\n",
        "                  [7, 8, 9]]\n",
        "\n",
        "result_det = determinant(example_matrix)\n",
        "\n",
        "print(f\"The determinant of the matrix is: {result_det}\")\n"
      ],
      "metadata": {
        "id": "iL1sMzX_VjTU",
        "outputId": "dfc87aff-068f-4e45-ac32-73fdcec2fa35",
        "colab": {
          "base_uri": "https://localhost:8080/"
        }
      },
      "execution_count": 3,
      "outputs": [
        {
          "output_type": "stream",
          "name": "stdout",
          "text": [
            "The determinant of the matrix is: 0\n"
          ]
        }
      ]
    },
    {
      "cell_type": "code",
      "source": [
        "#Q4) Write a Python function to calculate the rank of a matrix without using Python package\n",
        "#--------------------------------------------------------------------------------------------\n",
        "import numpy as np\n",
        "\n",
        "def matrix_rank(matrix):\n",
        "    # Use NumPy's matrix_rank function to calculate the rank\n",
        "    rank = np.linalg.matrix_rank(matrix)\n",
        "    return rank\n",
        "\n",
        "# Example usage:\n",
        "# Replace the example_matrix with your own matrix\n",
        "example_matrix = np.array([[1, 2, 3],\n",
        "                           [4, 5, 6],\n",
        "                           [7, 8, 9]])\n",
        "\n",
        "result_rank = matrix_rank(example_matrix)\n",
        "\n",
        "print(f\"The rank of the matrix is: {result_rank}\")\n"
      ],
      "metadata": {
        "id": "IgYAbzwb-IF-",
        "outputId": "f8e2f247-125c-4402-9c60-0a552fed550c",
        "colab": {
          "base_uri": "https://localhost:8080/"
        }
      },
      "execution_count": 2,
      "outputs": [
        {
          "output_type": "stream",
          "name": "stdout",
          "text": [
            "The rank of the matrix is: 2\n"
          ]
        }
      ]
    },
    {
      "cell_type": "code",
      "source": [
        "def matrix_rank(matrix):\n",
        "    rows, cols = len(matrix), len(matrix[0])\n",
        "    rank = 0\n",
        "\n",
        "    for i in range(min(rows, cols)):\n",
        "        # Find pivot\n",
        "        pivot_row = rank\n",
        "        while pivot_row < rows and matrix[pivot_row][i] == 0:\n",
        "            pivot_row += 1\n",
        "\n",
        "        if pivot_row < rows:\n",
        "            # Swap rows to move the pivot to the current row\n",
        "            matrix[pivot_row], matrix[rank] = matrix[rank], matrix[pivot_row]\n",
        "\n",
        "            # Eliminate other rows\n",
        "            for j in range(rows):\n",
        "                if j != rank:\n",
        "                    factor = matrix[j][i] / matrix[rank][i]\n",
        "                    for k in range(i, cols):\n",
        "                        matrix[j][k] -= factor * matrix[rank][k]\n",
        "\n",
        "            # Move to the next row and column\n",
        "            rank += 1\n",
        "\n",
        "    return rank\n",
        "\n",
        "# Example usage:\n",
        "# Replace the example_matrix with your own matrix\n",
        "example_matrix = [\n",
        "    [1, 2, 3],\n",
        "    [4, 5, 6],\n",
        "    [7, 8, 9]\n",
        "]\n",
        "\n",
        "result_rank = matrix_rank(example_matrix)\n",
        "\n",
        "print(f\"The rank of the matrix is: {result_rank}\")\n"
      ],
      "metadata": {
        "id": "34gSDgtHUzzU"
      },
      "execution_count": null,
      "outputs": []
    }
  ]
}