{
  "nbformat": 4,
  "nbformat_minor": 0,
  "metadata": {
    "colab": {
      "provenance": [],
      "authorship_tag": "ABX9TyOcM8VajjVZir1ig9r25woU",
      "include_colab_link": true
    },
    "kernelspec": {
      "name": "python3",
      "display_name": "Python 3"
    },
    "language_info": {
      "name": "python"
    }
  },
  "cells": [
    {
      "cell_type": "markdown",
      "metadata": {
        "id": "view-in-github",
        "colab_type": "text"
      },
      "source": [
        "<a href=\"https://colab.research.google.com/github/nethajisubash/AI-ML-Projects/blob/main/Week8-Jan14th-LinearAlgebra/LA%20Assignment.ipynb\" target=\"_parent\"><img src=\"https://colab.research.google.com/assets/colab-badge.svg\" alt=\"Open In Colab\"/></a>"
      ]
    },
    {
      "cell_type": "markdown",
      "source": [
        "# Assignment"
      ],
      "metadata": {
        "id": "hFauz-tPzZMn"
      }
    },
    {
      "cell_type": "markdown",
      "source": [
        " Q1) Write a Python function that takes a square matrix A as input and returns its eigenvalues and eigenvectors.\n",
        "\n",
        "\n",
        "\n",
        "Q2) Write a program which takes 2 arrays and returns the dot product without using NumPy\n",
        "\n",
        "\n",
        "\n",
        "Q3) Write a Python function to calculate the determinant of a n by n matrix without using Python package\n",
        "\n",
        "\n",
        "\n",
        "Q4) Write a Python function to calculate the rank of a matrix without using Python package"
      ],
      "metadata": {
        "id": "oSBine4-zgVf"
      }
    },
    {
      "cell_type": "code",
      "source": [
        "\n"
      ],
      "metadata": {
        "id": "N-LKgjwGzsEm"
      },
      "execution_count": null,
      "outputs": []
    },
    {
      "cell_type": "code",
      "source": [
        "# Q1) Write a Python function that takes a square matrix A as input and returns its eigenvalues and eigenvectors.\n",
        "#-----------------------------------------------------------------------------------------------------------------\n",
        "import numpy as np\n",
        "\n",
        "#function to print the eigen value and vector for any given square matrix\n",
        "def print_eigen (square_matrix) :\n",
        "  #print input square matrix\n",
        "  print(square_matrix)\n",
        "\n",
        "  #invoking numpy linear algebra eigen function to get the eigen value and eigen vector\n",
        "  eigen_value, eigen_vector = np.linalg.eig(square_matrix)\n",
        "\n",
        "  #print eigen vector and value\n",
        "  print(\"Eigen Value =\", eigen_value)\n",
        "  print(\"Eigen Vector =\", eigen_vector)\n",
        "\n",
        "# to validate know results of 3 and 2 are being outputed\n",
        "print_eigen(([3,1],[0,2]))\n",
        "\n",
        "print()\n",
        "# pass random 2 x 2 matix and get the results\n",
        "random_martix= np.random.rand(2,2)\n",
        "print_eigen(random_martix)\n",
        "\n",
        "print()\n",
        "print_eigen(100*(random_martix))\n"
      ],
      "metadata": {
        "id": "60wuuE19zz5p",
        "colab": {
          "base_uri": "https://localhost:8080/"
        },
        "outputId": "e5f29024-fe7e-4fbe-b3d2-b7c6c03d0fec"
      },
      "execution_count": 13,
      "outputs": [
        {
          "output_type": "stream",
          "name": "stdout",
          "text": [
            "([3, 1], [0, 2])\n",
            "Eigen Value = [3. 2.]\n",
            "Eigen Vector = [[ 1.         -0.70710678]\n",
            " [ 0.          0.70710678]]\n",
            "\n",
            "[[0.25610043 0.64328028]\n",
            " [0.33893927 0.94485899]]\n",
            "Eigen Value = [0.02028143 1.18067798]\n",
            "Eigen Vector = [[-0.93890011 -0.57112186]\n",
            " [ 0.34418975 -0.82086529]]\n",
            "\n",
            "[[25.6100432  64.32802818]\n",
            " [33.8939273  94.48589852]]\n",
            "Eigen Value = [  2.02814346 118.06779826]\n",
            "Eigen Vector = [[-0.93890011 -0.57112186]\n",
            " [ 0.34418975 -0.82086529]]\n"
          ]
        }
      ]
    },
    {
      "cell_type": "code",
      "source": [
        "# Q2) Write a program which takes 2 arrays and returns the dot product without using NumPy\n",
        "#------------------------------------------------------------------------------------------\n",
        "\n",
        "#function to calcualte dot product\n",
        "def dot_product(array_one, array_two) :\n",
        "  # main prerequiste for dot product is the arrays should be same length. So returning none if array are not equal\n",
        "  if len(array_one) != len(array_one) :\n",
        "    print(\"Warning - Array not of equal length\")\n",
        "    return None\n",
        "  # initialize dot product value.\n",
        "  dot_product_value=0\n",
        "\n",
        "  for i in range(len(array_one)) :\n",
        "    # summation of the multiplied values of the element is the array value.\n",
        "    dot_product_value = dot_product_value + (array_one[i] * array_two[i])\n",
        "  return dot_product_value\n",
        "\n",
        "# validate dot product value\n",
        "dot_product([1,2,3,4],[5,6,7,8])\n",
        "\n",
        ""
      ],
      "metadata": {
        "colab": {
          "base_uri": "https://localhost:8080/"
        },
        "id": "KNQiUzQb9887",
        "outputId": "a9166c14-a0bd-4e6f-c055-55e3efb160ba"
      },
      "execution_count": 16,
      "outputs": [
        {
          "output_type": "execute_result",
          "data": {
            "text/plain": [
              "70"
            ]
          },
          "metadata": {},
          "execution_count": 16
        }
      ]
    },
    {
      "cell_type": "code",
      "source": [
        "# Q3) Write a Python function to calculate the determinant of a n by n matrix without using Python package\n",
        "#---------------------------------------------------------------------------------------------------------\n",
        "\n"
      ],
      "metadata": {
        "id": "AGBbM7QQG31X"
      },
      "execution_count": null,
      "outputs": []
    }
  ]
}