{
  "nbformat": 4,
  "nbformat_minor": 0,
  "metadata": {
    "colab": {
      "provenance": [],
      "authorship_tag": "ABX9TyPPJSz+PRc7b+/WxFSgUM/n",
      "include_colab_link": true
    },
    "kernelspec": {
      "name": "python3",
      "display_name": "Python 3"
    },
    "language_info": {
      "name": "python"
    }
  },
  "cells": [
    {
      "cell_type": "markdown",
      "metadata": {
        "id": "view-in-github",
        "colab_type": "text"
      },
      "source": [
        "<a href=\"https://colab.research.google.com/github/nethajisubash/AI-ML-Projects/blob/main/Week9-Jan22-LinAlg2/Assignment_LA2.ipynb\" target=\"_parent\"><img src=\"https://colab.research.google.com/assets/colab-badge.svg\" alt=\"Open In Colab\"/></a>"
      ]
    },
    {
      "cell_type": "code",
      "execution_count": 2,
      "metadata": {
        "id": "PvRgpYUz_VeN"
      },
      "outputs": [],
      "source": [
        "#Q1 Write a Python function that takes a matrix A and an integer k as input and returns the top k principal components of A using PCA.\n",
        "\n",
        "#Q2 Write a Python function that takes a matrix A as input and returns its singular value decomposition (SVD).\n",
        "\n",
        "#Q3 Write a Python code to derive simple linear regressions best-fit line in python\n",
        "\n",
        "#Submission\n",
        "#Try your code as a Google Colab Notebook. The code should be well-commented and easy to read. Document the key takeaways as a markdown for further discussion/future reference."
      ]
    },
    {
      "cell_type": "code",
      "source": [
        "#Q1 Write a Python function that takes a matrix A and an integer k as input and returns the top k principal components of A using PCA.\n",
        "#--------------------------------------------------------------------------------------------------------------------------------------\n",
        "\n",
        "def get_top_k_principal(A , k ) :\n",
        "\n",
        "  return k"
      ],
      "metadata": {
        "id": "3SLs-n7w_jxv"
      },
      "execution_count": null,
      "outputs": []
    }
  ]
}